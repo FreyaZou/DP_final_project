{
 "cells": [
  {
   "cell_type": "code",
   "execution_count": 6,
   "metadata": {},
   "outputs": [],
   "source": [
    "import pandas as pd\n",
    "import numpy as np\n",
    "import matplotlib.pyplot as plt\n",
    "import random\n",
    "import pickle\n",
    "from itertools import chain\n",
    "import tensorflow as tf\n",
    "from sklearn.model_selection import train_test_split\n",
    "from sklearn.linear_model import LogisticRegression\n",
    "from sklearn.model_selection import GridSearchCV"
   ]
  },
  {
   "cell_type": "markdown",
   "metadata": {},
   "source": [
    "## Import cleaned data"
   ]
  },
  {
   "cell_type": "code",
   "execution_count": 3,
   "metadata": {},
   "outputs": [],
   "source": [
    "with open(\"./clean_review77_83.pickle\", \"rb\") as input_file:\n",
    "        data2 = pickle.load(input_file)\n",
    "with open(\"./word_freq2.pickle\", \"rb\") as input_file:\n",
    "        word_freq = pickle.load(input_file)\n",
    "with open(\"./lable2.pickle\", \"rb\") as input_file:\n",
    "        label2 = pickle.load(input_file) # useful > 1, binary label\n",
    "label2 = label2.astype(int)"
   ]
  },
  {
   "cell_type": "markdown",
   "metadata": {},
   "source": [
    "## Classification Models"
   ]
  },
  {
   "cell_type": "markdown",
   "metadata": {},
   "source": [
    "### Logistic regression"
   ]
  },
  {
   "cell_type": "code",
   "execution_count": 4,
   "metadata": {},
   "outputs": [],
   "source": [
    "logistic = LogisticRegression(penalty='l1', dual=False, tol=0.0001, \n",
    "                              C=1.0, fit_intercept=True, intercept_scaling=1, \n",
    "                              class_weight=None, random_state=None, solver='liblinear', \n",
    "                              max_iter=1000, multi_class='ovr', verbose=0, \n",
    "                              warm_start=False, n_jobs=1)"
   ]
  },
  {
   "cell_type": "code",
   "execution_count": 13,
   "metadata": {},
   "outputs": [
    {
     "name": "stderr",
     "output_type": "stream",
     "text": [
      "/Users/apple/Documents/deep_learning/venv/lib/python3.6/site-packages/sklearn/linear_model/logistic.py:432: FutureWarning: Default solver will be changed to 'lbfgs' in 0.22. Specify a solver to silence this warning.\n",
      "  FutureWarning)\n"
     ]
    },
    {
     "name": "stdout",
     "output_type": "stream",
     "text": [
      "Training Score:  0.7779488329524998\n",
      "Test Score:  0.7757177202658747\n"
     ]
    }
   ],
   "source": [
    "#### split train and test\n",
    "X_train, X_test, y_train, y_test = train_test_split(np.array(word_freq), np.array(label2), test_size=0.3, random_state=101)\n",
    "\n",
    "param_dist1 = {'C': [0.001,0.01,0.1,1,10,100], 'penalty': ['l1', 'l2']}\n",
    "\n",
    "logi = LogisticRegression()\n",
    "logi_cv = GridSearchCV(logi, param_dist1, cv=5)\n",
    "logi_cv.fit(X_train, y_train)\n",
    "\n",
    "logi_model = LogisticRegression(C = logi_cv.best_params_['C'], penalty = logi_cv.best_params_['penalty'])\n",
    "logi_model.fit(X_train, y_train)\n",
    "train_acc = logi_model.score(X_train, y_train)\n",
    "test_acc = logi_model.score(X_test, y_test)\n",
    "\n",
    "print('Training Score: ', train_acc)\n",
    "print('Test Score: ', test_acc)"
   ]
  },
  {
   "cell_type": "code",
   "execution_count": 11,
   "metadata": {},
   "outputs": [
    {
     "data": {
      "text/plain": [
       "0.01"
      ]
     },
     "execution_count": 11,
     "metadata": {},
     "output_type": "execute_result"
    }
   ],
   "source": [
    "logi_cv.best_params_['C']"
   ]
  },
  {
   "cell_type": "markdown",
   "metadata": {},
   "source": [
    "### NN"
   ]
  },
  {
   "cell_type": "code",
   "execution_count": 14,
   "metadata": {},
   "outputs": [],
   "source": [
    "# one hot encoding\n",
    "onehotlabels = []\n",
    "labels = [[1,0], [0,1]]\n",
    "for i in label2:\n",
    "    onehotlabels.append(labels[i])\n",
    "\n",
    "X_train, X_test, y_train, y_test = train_test_split(np.array(word_freq), np.array(onehotlabels), test_size=0.3, random_state=101)\n",
    "\n",
    "# network parameters\n",
    "learning_rate = 0.001\n",
    "batch_size = 128\n",
    "n_batch = len(X_train) // batch_size\n",
    "display_step = 200\n",
    "\n",
    "words_length = 297\n",
    "num_hidden = 300 # hidden layer num of features\n",
    "num_classes = 2 \n",
    "vocab_size = words_length\n",
    "embed_sz = 100"
   ]
  },
  {
   "cell_type": "markdown",
   "metadata": {},
   "source": [
    "### vanila multi-layer NN"
   ]
  },
  {
   "cell_type": "code",
   "execution_count": 20,
   "metadata": {},
   "outputs": [],
   "source": [
    "X = tf.placeholder(tf.float32, [None, words_length])\n",
    "Y = tf.placeholder(tf.int32, [None,num_classes])\n",
    "\n",
    "h0 = tf.layers.dense(X, units=num_hidden, activation = tf.nn.relu) #x dtype = float32\n",
    "h1 = tf.layers.dense(h0, num_hidden, activation = tf.nn.relu)\n",
    "logits = tf.layers.dense(h1, num_classes, activation = tf.nn.sigmoid)\n",
    "\n",
    "prediction = tf.nn.softmax(logits)\n",
    "\n",
    "# Define loss and optimizer\n",
    "loss_op = tf.reduce_mean(tf.losses.sparse_softmax_cross_entropy(logits=logits, labels=tf.argmax(Y, 1)))\n",
    "train_op = tf.train.AdamOptimizer(learning_rate=learning_rate).minimize(loss_op)\n",
    "\n",
    "# Evaluate model (with test logits, for dropout to be disabled)\n",
    "correct_pred = tf.equal(tf.argmax(prediction, 1), tf.argmax(Y, 1))\n",
    "accuracy = tf.reduce_mean(tf.cast(correct_pred, tf.float32))"
   ]
  },
  {
   "cell_type": "code",
   "execution_count": 21,
   "metadata": {},
   "outputs": [
    {
     "name": "stdout",
     "output_type": "stream",
     "text": [
      "Step 1, Minibatch Loss= 0.6772, Training Accuracy= 137.500\n",
      "Step 200, Minibatch Loss= 0.5369, Training Accuracy= 155.797\n",
      "Step 400, Minibatch Loss= 0.5374, Training Accuracy= 155.426\n",
      "Step 600, Minibatch Loss= 0.5362, Training Accuracy= 155.505\n",
      "Step 800, Minibatch Loss= 0.5353, Training Accuracy= 155.602\n",
      "Step 1000, Minibatch Loss= 0.5349, Training Accuracy= 155.575\n",
      "Step 1200, Minibatch Loss= 0.5345, Training Accuracy= 155.617\n",
      "Optimization Finished!\n",
      "Testing Accuracy: 0.77556217\n"
     ]
    }
   ],
   "source": [
    "with tf.Session() as sess:\n",
    "\n",
    "    sess.run(tf.global_variables_initializer())\n",
    "\n",
    "    total_loss, step, acc = 0, 0, 0\n",
    "    for start, end in zip(range(0, n_batch*batch_size-batch_size, batch_size),\n",
    "                              range(batch_size, n_batch*batch_size, batch_size)):\n",
    "\n",
    "\n",
    "        loss_, _, acc_ = sess.run([loss_op,train_op,accuracy], feed_dict={X: X_train[start:end].astype(int), \n",
    "                                                                        Y: y_train[start:end]})\n",
    "        step += 1\n",
    "        total_loss += loss_\n",
    "        acc += acc_\n",
    "        if step % display_step == 0 or step == 1:\n",
    "            print(\"Step \" + str(step) + \", Minibatch Loss= \" + \\\n",
    "                  \"{:.4f}\".format(total_loss / step) + \", Training Accuracy= \" + \\\n",
    "                  \"{:.3f}\".format(acc/))\n",
    "\n",
    "    print(\"Optimization Finished!\")\n",
    "\n",
    "    # Calculate testing accuracy\n",
    "    test_data = X_test\n",
    "    test_label = y_test\n",
    "    print(\"Testing Accuracy:\", \\\n",
    "        sess.run(accuracy, feed_dict={X: test_data, Y: test_label}))\n",
    "    "
   ]
  },
  {
   "cell_type": "markdown",
   "metadata": {},
   "source": [
    "### Bi-directional  RNN"
   ]
  },
  {
   "cell_type": "code",
   "execution_count": null,
   "metadata": {},
   "outputs": [],
   "source": [
    "X = tf.placeholder(tf.int32, [None, words_length])\n",
    "Y = tf.placeholder(tf.int32, [None, num_classes])\n",
    "weights = tf.Variable(tf.random_normal([2*num_hidden, num_classes]))\n",
    "biases = tf.Variable(tf.random_normal([num_classes]))"
   ]
  },
  {
   "cell_type": "code",
   "execution_count": null,
   "metadata": {},
   "outputs": [],
   "source": [
    "def BiRNN(x, weights, biases):\n",
    "\n",
    "    # Prepare data shape to match `rnn` function requirements\n",
    "    # Current data input shape: (batch_size, n_input)\n",
    "    R = tf.Variable(tf.random_normal([vocab_size, embed_sz], stddev = .1))\n",
    "    embs_R = tf.nn.embedding_lookup(R, x)\n",
    "    # the input shape of tf.nn.static_bidirectional_rnn should be 3-dimension tensor\n",
    "    embs_R = tf.unstack(tf.transpose(embs_R, perm=[2, 0, 1]))\n",
    "\n",
    "    x = tf.reshape(x, [-1, words_length])\n",
    "    x = tf.split(axis=0, num_or_size_splits=n_batch, value=x)\n",
    "    \n",
    "    # Forward direction cell\n",
    "    lstm_fw_cell = tf.contrib.rnn.GRUCell(num_hidden)\n",
    "    \n",
    "    # Backward direction cell\n",
    "    lstm_bw_cell = tf.contrib.rnn.GRUCell(num_hidden)\n",
    "\n",
    "    # Get lstm cell output\n",
    "    try:\n",
    "        outputs, _, _ = tf.nn.static_bidirectional_rnn(lstm_fw_cell, lstm_bw_cell, embs_R, dtype = tf.float32)\n",
    "    except Exception: # Old TensorFlow version only returns outputs not states\n",
    "        outputs = tf.nn.static_bidirectional_rnn(lstm_fw_cell, lstm_bw_cell, embs_R, dtype = tf.float32)\n",
    "\n",
    "    # Linear activation, using rnn inner loop last output\n",
    "    return tf.matmul(outputs[-1], weights) + biases"
   ]
  },
  {
   "cell_type": "code",
   "execution_count": null,
   "metadata": {},
   "outputs": [],
   "source": [
    "logits = BiRNN(X, weights, biases)\n",
    "prediction = tf.nn.softmax(logits)\n",
    "\n",
    "# Define loss and optimizer\n",
    "loss_op = tf.reduce_mean(tf.losses.sparse_softmax_cross_entropy(logits=logits, labels=tf.argmax(Y, 1)))\n",
    "train_op = tf.train.AdamOptimizer(learning_rate=learning_rate).minimize(loss_op)\n",
    "\n",
    "# Evaluate model (with test logits, for dropout to be disabled)\n",
    "correct_pred = tf.equal(tf.argmax(prediction, 1), tf.argmax(Y, 1))\n",
    "accuracy = tf.reduce_mean(tf.cast(correct_pred, tf.float32))"
   ]
  },
  {
   "cell_type": "code",
   "execution_count": null,
   "metadata": {},
   "outputs": [],
   "source": [
    "with tf.Session() as sess:\n",
    "\n",
    "    sess.run(tf.global_variables_initializer())\n",
    "\n",
    "    total_loss, step, acc = 0, 0, 0\n",
    "    for start, end in zip(range(0, n_batch*batch_size-batch_size, batch_size),\n",
    "                              range(batch_size, n_batch*batch_size, batch_size)):\n",
    "\n",
    "\n",
    "        loss_, _, acc = sess.run([loss_op,train_op,accuracy], feed_dict={X: X_train[start:end].astype(int), \n",
    "                                                                        Y: y_train[start:end]})\n",
    "        step += 1\n",
    "        total_loss += loss_\n",
    "        if step % display_step == 0 or step == 1:\n",
    "            print(\"Step \" + str(step) + \", Minibatch Loss= \" + \\\n",
    "                  \"{:.4f}\".format(total_loss / step) + \", Training Accuracy= \" + \\\n",
    "                  \"{:.3f}\".format(acc))\n",
    "\n",
    "    print(\"Optimization Finished!\")\n",
    "\n",
    "    # Calculate testing accuracy\n",
    "    test_data = X_test\n",
    "    test_label = y_test\n",
    "    print(\"Testing Accuracy:\", \\\n",
    "        sess.run(accuracy, feed_dict={X: test_data, Y: test_label}))\n",
    "    "
   ]
  }
 ],
 "metadata": {
  "kernelspec": {
   "display_name": "Python 3",
   "language": "python",
   "name": "python3"
  },
  "language_info": {
   "codemirror_mode": {
    "name": "ipython",
    "version": 3
   },
   "file_extension": ".py",
   "mimetype": "text/x-python",
   "name": "python",
   "nbconvert_exporter": "python",
   "pygments_lexer": "ipython3",
   "version": "3.6.5"
  }
 },
 "nbformat": 4,
 "nbformat_minor": 2
}
